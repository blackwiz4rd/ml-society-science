{
 "cells": [
  {
   "cell_type": "code",
   "execution_count": 1,
   "metadata": {},
   "outputs": [],
   "source": [
    "import sqlalchemy"
   ]
  },
  {
   "cell_type": "code",
   "execution_count": 2,
   "metadata": {},
   "outputs": [],
   "source": [
    "engine = sqlalchemy.create_engine('sqlite:///../../data/COMPAS/compas.db')"
   ]
  },
  {
   "cell_type": "code",
   "execution_count": 3,
   "metadata": {},
   "outputs": [],
   "source": [
    "inspector = sqlalchemy.inspect(engine)"
   ]
  },
  {
   "cell_type": "code",
   "execution_count": 4,
   "metadata": {},
   "outputs": [
    {
     "data": {
      "text/plain": [
       "['casearrest',\n",
       " 'charge',\n",
       " 'compas',\n",
       " 'jailhistory',\n",
       " 'people',\n",
       " 'prisonhistory',\n",
       " 'summary']"
      ]
     },
     "execution_count": 4,
     "metadata": {},
     "output_type": "execute_result"
    }
   ],
   "source": [
    "inspector.get_table_names()"
   ]
  },
  {
   "cell_type": "code",
   "execution_count": 5,
   "metadata": {},
   "outputs": [],
   "source": [
    "cursor = engine.execute('SELECT * FROM compas LIMIT 10')"
   ]
  },
  {
   "cell_type": "code",
   "execution_count": 6,
   "metadata": {},
   "outputs": [
    {
     "data": {
      "text/plain": [
       "[(1, 'miguel', 'hernandez', 56418, 58393, 64352, 'PRETRIAL', 'Risk and Prescreen', 'Intake', 'Pretrial', 'Jail Inmate', 'Single', '2013-08-14 00:00:00.000000', 1, 'Low', 'Low', 7, 'Risk of Violence', -4.31, 1, 1),\n",
       " (2, 'miguel', 'hernandez', 56418, 58393, 64352, 'PRETRIAL', 'Risk and Prescreen', 'Intake', 'Pretrial', 'Jail Inmate', 'Single', '2013-08-14 00:00:00.000000', 1, 'Low', 'Low', 8, 'Risk of Recidivism', -2.78, 1, 1),\n",
       " (3, 'miguel', 'hernandez', 56418, 58393, 64352, 'PRETRIAL', 'Risk and Prescreen', 'Intake', 'Pretrial', 'Jail Inmate', 'Single', '2013-08-14 00:00:00.000000', 1, 'Low', 'Low', 18, 'Risk of Failure to Appear', 13, 1, 1),\n",
       " (4, 'michael', 'ryan', 68603, 72042, 79669, 'PRETRIAL', 'Risk and Prescreen', 'Intake', 'Pretrial', 'Jail Inmate', 'Single', '2014-12-31 00:00:00.000000', 1, 'Low', 'Low', 7, 'Risk of Violence', -2.75, 2, 2),\n",
       " (5, 'michael', 'ryan', 68603, 72042, 79669, 'PRETRIAL', 'Risk and Prescreen', 'Intake', 'Pretrial', 'Jail Inmate', 'Single', '2014-12-31 00:00:00.000000', 1, 'Low', 'Medium', 8, 'Risk of Recidivism', -0.34, 5, 2),\n",
       " (6, 'michael', 'ryan', 68603, 72042, 79669, 'PRETRIAL', 'Risk and Prescreen', 'Intake', 'Pretrial', 'Jail Inmate', 'Single', '2014-12-31 00:00:00.000000', 1, 'Low', 'Low', 18, 'Risk of Failure to Appear', 16, 2, 2),\n",
       " (7, 'kevon', 'dixon', 51601, 52796, 58102, 'PRETRIAL', 'Risk and Prescreen', 'Intake', 'Pretrial', 'Jail Inmate', 'Single', '2013-01-27 00:00:00.000000', 1, 'Low', 'Low', 7, 'Risk of Violence', -3.07, 1, 3),\n",
       " (8, 'kevon', 'dixon', 51601, 52796, 58102, 'PRETRIAL', 'Risk and Prescreen', 'Intake', 'Pretrial', 'Jail Inmate', 'Single', '2013-01-27 00:00:00.000000', 1, 'Low', 'Low', 8, 'Risk of Recidivism', -0.76, 3, 3),\n",
       " (9, 'kevon', 'dixon', 51601, 52796, 58102, 'PRETRIAL', 'Risk and Prescreen', 'Intake', 'Pretrial', 'Jail Inmate', 'Single', '2013-01-27 00:00:00.000000', 1, 'Low', 'Medium', 18, 'Risk of Failure to Appear', 25, 6, 3),\n",
       " (10, 'ed', 'philo', 38864, 55421, 61042, 'PRETRIAL', 'Risk and Prescreen', 'Intake', 'Pretrial', 'Jail Inmate', 'Single', '2013-04-14 00:00:00.000000', 1, 'Low', 'Low', 7, 'Risk of Violence', -2.26, 3, 4)]"
      ]
     },
     "execution_count": 6,
     "metadata": {},
     "output_type": "execute_result"
    }
   ],
   "source": [
    "cursor.fetchall()"
   ]
  },
  {
   "cell_type": "code",
   "execution_count": 7,
   "metadata": {},
   "outputs": [],
   "source": [
    "import pandas"
   ]
  },
  {
   "cell_type": "code",
   "execution_count": 8,
   "metadata": {},
   "outputs": [],
   "source": [
    "people = pandas.read_sql('people', engine)"
   ]
  },
  {
   "cell_type": "code",
   "execution_count": 9,
   "metadata": {},
   "outputs": [
    {
     "data": {
      "text/html": [
       "<div>\n",
       "<style scoped>\n",
       "    .dataframe tbody tr th:only-of-type {\n",
       "        vertical-align: middle;\n",
       "    }\n",
       "\n",
       "    .dataframe tbody tr th {\n",
       "        vertical-align: top;\n",
       "    }\n",
       "\n",
       "    .dataframe thead th {\n",
       "        text-align: right;\n",
       "    }\n",
       "</style>\n",
       "<table border=\"1\" class=\"dataframe\">\n",
       "  <thead>\n",
       "    <tr style=\"text-align: right;\">\n",
       "      <th></th>\n",
       "      <th>id</th>\n",
       "      <th>name</th>\n",
       "      <th>first</th>\n",
       "      <th>last</th>\n",
       "      <th>sex</th>\n",
       "      <th>race</th>\n",
       "      <th>dob</th>\n",
       "      <th>age</th>\n",
       "      <th>age_cat</th>\n",
       "      <th>juv_fel_count</th>\n",
       "      <th>...</th>\n",
       "      <th>r_offense_date</th>\n",
       "      <th>r_charge_desc</th>\n",
       "      <th>r_jail_in</th>\n",
       "      <th>r_jail_out</th>\n",
       "      <th>is_violent_recid</th>\n",
       "      <th>num_vr_cases</th>\n",
       "      <th>vr_case_number</th>\n",
       "      <th>vr_charge_degree</th>\n",
       "      <th>vr_offense_date</th>\n",
       "      <th>vr_charge_desc</th>\n",
       "    </tr>\n",
       "  </thead>\n",
       "  <tbody>\n",
       "    <tr>\n",
       "      <td>0</td>\n",
       "      <td>1</td>\n",
       "      <td>miguel hernandez</td>\n",
       "      <td>miguel</td>\n",
       "      <td>hernandez</td>\n",
       "      <td>Male</td>\n",
       "      <td>Other</td>\n",
       "      <td>1947-04-18</td>\n",
       "      <td>69</td>\n",
       "      <td>Greater than 45</td>\n",
       "      <td>0</td>\n",
       "      <td>...</td>\n",
       "      <td>NaT</td>\n",
       "      <td>None</td>\n",
       "      <td>NaT</td>\n",
       "      <td>NaT</td>\n",
       "      <td>0</td>\n",
       "      <td>None</td>\n",
       "      <td>None</td>\n",
       "      <td>None</td>\n",
       "      <td>NaT</td>\n",
       "      <td>None</td>\n",
       "    </tr>\n",
       "    <tr>\n",
       "      <td>1</td>\n",
       "      <td>2</td>\n",
       "      <td>michael ryan</td>\n",
       "      <td>michael</td>\n",
       "      <td>ryan</td>\n",
       "      <td>Male</td>\n",
       "      <td>Caucasian</td>\n",
       "      <td>1985-02-06</td>\n",
       "      <td>31</td>\n",
       "      <td>25 - 45</td>\n",
       "      <td>0</td>\n",
       "      <td>...</td>\n",
       "      <td>NaT</td>\n",
       "      <td>None</td>\n",
       "      <td>NaT</td>\n",
       "      <td>NaT</td>\n",
       "      <td>0</td>\n",
       "      <td>None</td>\n",
       "      <td>None</td>\n",
       "      <td>None</td>\n",
       "      <td>NaT</td>\n",
       "      <td>None</td>\n",
       "    </tr>\n",
       "    <tr>\n",
       "      <td>2</td>\n",
       "      <td>3</td>\n",
       "      <td>kevon dixon</td>\n",
       "      <td>kevon</td>\n",
       "      <td>dixon</td>\n",
       "      <td>Male</td>\n",
       "      <td>African-American</td>\n",
       "      <td>1982-01-22</td>\n",
       "      <td>34</td>\n",
       "      <td>25 - 45</td>\n",
       "      <td>0</td>\n",
       "      <td>...</td>\n",
       "      <td>2013-07-05</td>\n",
       "      <td>Felony Battery (Dom Strang)</td>\n",
       "      <td>NaT</td>\n",
       "      <td>NaT</td>\n",
       "      <td>1</td>\n",
       "      <td>None</td>\n",
       "      <td>13009779CF10A</td>\n",
       "      <td>(F3)</td>\n",
       "      <td>2013-07-05</td>\n",
       "      <td>Felony Battery (Dom Strang)</td>\n",
       "    </tr>\n",
       "    <tr>\n",
       "      <td>3</td>\n",
       "      <td>4</td>\n",
       "      <td>ed philo</td>\n",
       "      <td>ed</td>\n",
       "      <td>philo</td>\n",
       "      <td>Male</td>\n",
       "      <td>African-American</td>\n",
       "      <td>1991-05-14</td>\n",
       "      <td>24</td>\n",
       "      <td>Less than 25</td>\n",
       "      <td>0</td>\n",
       "      <td>...</td>\n",
       "      <td>2013-06-16</td>\n",
       "      <td>Driving Under The Influence</td>\n",
       "      <td>2013-06-16 09:05:47</td>\n",
       "      <td>2013-06-16 07:18:55</td>\n",
       "      <td>0</td>\n",
       "      <td>None</td>\n",
       "      <td>None</td>\n",
       "      <td>None</td>\n",
       "      <td>NaT</td>\n",
       "      <td>None</td>\n",
       "    </tr>\n",
       "    <tr>\n",
       "      <td>4</td>\n",
       "      <td>5</td>\n",
       "      <td>marcu brown</td>\n",
       "      <td>marcu</td>\n",
       "      <td>brown</td>\n",
       "      <td>Male</td>\n",
       "      <td>African-American</td>\n",
       "      <td>1993-01-21</td>\n",
       "      <td>23</td>\n",
       "      <td>Less than 25</td>\n",
       "      <td>0</td>\n",
       "      <td>...</td>\n",
       "      <td>NaT</td>\n",
       "      <td>None</td>\n",
       "      <td>NaT</td>\n",
       "      <td>NaT</td>\n",
       "      <td>0</td>\n",
       "      <td>None</td>\n",
       "      <td>None</td>\n",
       "      <td>None</td>\n",
       "      <td>NaT</td>\n",
       "      <td>None</td>\n",
       "    </tr>\n",
       "  </tbody>\n",
       "</table>\n",
       "<p>5 rows × 41 columns</p>\n",
       "</div>"
      ],
      "text/plain": [
       "   id              name    first       last   sex              race  \\\n",
       "0   1  miguel hernandez   miguel  hernandez  Male             Other   \n",
       "1   2      michael ryan  michael       ryan  Male         Caucasian   \n",
       "2   3       kevon dixon    kevon      dixon  Male  African-American   \n",
       "3   4          ed philo       ed      philo  Male  African-American   \n",
       "4   5       marcu brown    marcu      brown  Male  African-American   \n",
       "\n",
       "         dob  age          age_cat  juv_fel_count  ...  r_offense_date  \\\n",
       "0 1947-04-18   69  Greater than 45              0  ...             NaT   \n",
       "1 1985-02-06   31          25 - 45              0  ...             NaT   \n",
       "2 1982-01-22   34          25 - 45              0  ...      2013-07-05   \n",
       "3 1991-05-14   24     Less than 25              0  ...      2013-06-16   \n",
       "4 1993-01-21   23     Less than 25              0  ...             NaT   \n",
       "\n",
       "                 r_charge_desc           r_jail_in          r_jail_out  \\\n",
       "0                         None                 NaT                 NaT   \n",
       "1                         None                 NaT                 NaT   \n",
       "2  Felony Battery (Dom Strang)                 NaT                 NaT   \n",
       "3  Driving Under The Influence 2013-06-16 09:05:47 2013-06-16 07:18:55   \n",
       "4                         None                 NaT                 NaT   \n",
       "\n",
       "  is_violent_recid num_vr_cases  vr_case_number vr_charge_degree  \\\n",
       "0                0         None            None             None   \n",
       "1                0         None            None             None   \n",
       "2                1         None   13009779CF10A             (F3)   \n",
       "3                0         None            None             None   \n",
       "4                0         None            None             None   \n",
       "\n",
       "  vr_offense_date               vr_charge_desc  \n",
       "0             NaT                         None  \n",
       "1             NaT                         None  \n",
       "2      2013-07-05  Felony Battery (Dom Strang)  \n",
       "3             NaT                         None  \n",
       "4             NaT                         None  \n",
       "\n",
       "[5 rows x 41 columns]"
      ]
     },
     "execution_count": 9,
     "metadata": {},
     "output_type": "execute_result"
    }
   ],
   "source": [
    "people.head()"
   ]
  },
  {
   "cell_type": "code",
   "execution_count": 10,
   "metadata": {},
   "outputs": [
    {
     "data": {
      "text/plain": [
       "Index(['id', 'name', 'first', 'last', 'sex', 'race', 'dob', 'age', 'age_cat',\n",
       "       'juv_fel_count', 'juv_misd_count', 'juv_other_count',\n",
       "       'compas_screening_date', 'decile_score', 'score_text', 'violent_recid',\n",
       "       'priors_count', 'days_b_screening_arrest', 'c_jail_in', 'c_jail_out',\n",
       "       'c_case_number', 'c_days_from_compas', 'c_arrest_date',\n",
       "       'c_offense_date', 'c_charge_degree', 'c_charge_desc', 'is_recid',\n",
       "       'num_r_cases', 'r_case_number', 'r_charge_degree', 'r_days_from_arrest',\n",
       "       'r_offense_date', 'r_charge_desc', 'r_jail_in', 'r_jail_out',\n",
       "       'is_violent_recid', 'num_vr_cases', 'vr_case_number',\n",
       "       'vr_charge_degree', 'vr_offense_date', 'vr_charge_desc'],\n",
       "      dtype='object')"
      ]
     },
     "execution_count": 10,
     "metadata": {},
     "output_type": "execute_result"
    }
   ],
   "source": [
    "people.columns"
   ]
  },
  {
   "cell_type": "code",
   "execution_count": 11,
   "metadata": {},
   "outputs": [],
   "source": [
    "compas = pandas.read_sql('compas', engine)"
   ]
  },
  {
   "cell_type": "code",
   "execution_count": 12,
   "metadata": {},
   "outputs": [
    {
     "data": {
      "text/html": [
       "<div>\n",
       "<style scoped>\n",
       "    .dataframe tbody tr th:only-of-type {\n",
       "        vertical-align: middle;\n",
       "    }\n",
       "\n",
       "    .dataframe tbody tr th {\n",
       "        vertical-align: top;\n",
       "    }\n",
       "\n",
       "    .dataframe thead th {\n",
       "        text-align: right;\n",
       "    }\n",
       "</style>\n",
       "<table border=\"1\" class=\"dataframe\">\n",
       "  <thead>\n",
       "    <tr style=\"text-align: right;\">\n",
       "      <th></th>\n",
       "      <th>id</th>\n",
       "      <th>first</th>\n",
       "      <th>last</th>\n",
       "      <th>compas_person_id</th>\n",
       "      <th>compas_case_id</th>\n",
       "      <th>compas_assessment_id</th>\n",
       "      <th>agency_text</th>\n",
       "      <th>scale_set</th>\n",
       "      <th>assessment_reason</th>\n",
       "      <th>legal_status</th>\n",
       "      <th>...</th>\n",
       "      <th>marital_status</th>\n",
       "      <th>screening_date</th>\n",
       "      <th>rec_supervision_level</th>\n",
       "      <th>rec_supervision_level_text</th>\n",
       "      <th>score_text</th>\n",
       "      <th>scale_id</th>\n",
       "      <th>type_of_assessment</th>\n",
       "      <th>raw_score</th>\n",
       "      <th>decile_score</th>\n",
       "      <th>person_id</th>\n",
       "    </tr>\n",
       "  </thead>\n",
       "  <tbody>\n",
       "    <tr>\n",
       "      <td>0</td>\n",
       "      <td>1</td>\n",
       "      <td>miguel</td>\n",
       "      <td>hernandez</td>\n",
       "      <td>56418</td>\n",
       "      <td>58393</td>\n",
       "      <td>64352</td>\n",
       "      <td>PRETRIAL</td>\n",
       "      <td>Risk and Prescreen</td>\n",
       "      <td>Intake</td>\n",
       "      <td>Pretrial</td>\n",
       "      <td>...</td>\n",
       "      <td>Single</td>\n",
       "      <td>2013-08-14</td>\n",
       "      <td>1</td>\n",
       "      <td>Low</td>\n",
       "      <td>Low</td>\n",
       "      <td>7</td>\n",
       "      <td>Risk of Violence</td>\n",
       "      <td>-4</td>\n",
       "      <td>1</td>\n",
       "      <td>1</td>\n",
       "    </tr>\n",
       "    <tr>\n",
       "      <td>1</td>\n",
       "      <td>2</td>\n",
       "      <td>miguel</td>\n",
       "      <td>hernandez</td>\n",
       "      <td>56418</td>\n",
       "      <td>58393</td>\n",
       "      <td>64352</td>\n",
       "      <td>PRETRIAL</td>\n",
       "      <td>Risk and Prescreen</td>\n",
       "      <td>Intake</td>\n",
       "      <td>Pretrial</td>\n",
       "      <td>...</td>\n",
       "      <td>Single</td>\n",
       "      <td>2013-08-14</td>\n",
       "      <td>1</td>\n",
       "      <td>Low</td>\n",
       "      <td>Low</td>\n",
       "      <td>8</td>\n",
       "      <td>Risk of Recidivism</td>\n",
       "      <td>-2</td>\n",
       "      <td>1</td>\n",
       "      <td>1</td>\n",
       "    </tr>\n",
       "    <tr>\n",
       "      <td>2</td>\n",
       "      <td>3</td>\n",
       "      <td>miguel</td>\n",
       "      <td>hernandez</td>\n",
       "      <td>56418</td>\n",
       "      <td>58393</td>\n",
       "      <td>64352</td>\n",
       "      <td>PRETRIAL</td>\n",
       "      <td>Risk and Prescreen</td>\n",
       "      <td>Intake</td>\n",
       "      <td>Pretrial</td>\n",
       "      <td>...</td>\n",
       "      <td>Single</td>\n",
       "      <td>2013-08-14</td>\n",
       "      <td>1</td>\n",
       "      <td>Low</td>\n",
       "      <td>Low</td>\n",
       "      <td>18</td>\n",
       "      <td>Risk of Failure to Appear</td>\n",
       "      <td>13</td>\n",
       "      <td>1</td>\n",
       "      <td>1</td>\n",
       "    </tr>\n",
       "    <tr>\n",
       "      <td>3</td>\n",
       "      <td>4</td>\n",
       "      <td>michael</td>\n",
       "      <td>ryan</td>\n",
       "      <td>68603</td>\n",
       "      <td>72042</td>\n",
       "      <td>79669</td>\n",
       "      <td>PRETRIAL</td>\n",
       "      <td>Risk and Prescreen</td>\n",
       "      <td>Intake</td>\n",
       "      <td>Pretrial</td>\n",
       "      <td>...</td>\n",
       "      <td>Single</td>\n",
       "      <td>2014-12-31</td>\n",
       "      <td>1</td>\n",
       "      <td>Low</td>\n",
       "      <td>Low</td>\n",
       "      <td>7</td>\n",
       "      <td>Risk of Violence</td>\n",
       "      <td>-2</td>\n",
       "      <td>2</td>\n",
       "      <td>2</td>\n",
       "    </tr>\n",
       "    <tr>\n",
       "      <td>4</td>\n",
       "      <td>5</td>\n",
       "      <td>michael</td>\n",
       "      <td>ryan</td>\n",
       "      <td>68603</td>\n",
       "      <td>72042</td>\n",
       "      <td>79669</td>\n",
       "      <td>PRETRIAL</td>\n",
       "      <td>Risk and Prescreen</td>\n",
       "      <td>Intake</td>\n",
       "      <td>Pretrial</td>\n",
       "      <td>...</td>\n",
       "      <td>Single</td>\n",
       "      <td>2014-12-31</td>\n",
       "      <td>1</td>\n",
       "      <td>Low</td>\n",
       "      <td>Medium</td>\n",
       "      <td>8</td>\n",
       "      <td>Risk of Recidivism</td>\n",
       "      <td>0</td>\n",
       "      <td>5</td>\n",
       "      <td>2</td>\n",
       "    </tr>\n",
       "  </tbody>\n",
       "</table>\n",
       "<p>5 rows × 21 columns</p>\n",
       "</div>"
      ],
      "text/plain": [
       "   id    first       last  compas_person_id  compas_case_id  \\\n",
       "0   1   miguel  hernandez             56418           58393   \n",
       "1   2   miguel  hernandez             56418           58393   \n",
       "2   3   miguel  hernandez             56418           58393   \n",
       "3   4  michael       ryan             68603           72042   \n",
       "4   5  michael       ryan             68603           72042   \n",
       "\n",
       "   compas_assessment_id agency_text           scale_set assessment_reason  \\\n",
       "0                 64352    PRETRIAL  Risk and Prescreen            Intake   \n",
       "1                 64352    PRETRIAL  Risk and Prescreen            Intake   \n",
       "2                 64352    PRETRIAL  Risk and Prescreen            Intake   \n",
       "3                 79669    PRETRIAL  Risk and Prescreen            Intake   \n",
       "4                 79669    PRETRIAL  Risk and Prescreen            Intake   \n",
       "\n",
       "  legal_status  ... marital_status screening_date rec_supervision_level  \\\n",
       "0     Pretrial  ...         Single     2013-08-14                     1   \n",
       "1     Pretrial  ...         Single     2013-08-14                     1   \n",
       "2     Pretrial  ...         Single     2013-08-14                     1   \n",
       "3     Pretrial  ...         Single     2014-12-31                     1   \n",
       "4     Pretrial  ...         Single     2014-12-31                     1   \n",
       "\n",
       "   rec_supervision_level_text score_text scale_id         type_of_assessment  \\\n",
       "0                         Low        Low        7           Risk of Violence   \n",
       "1                         Low        Low        8         Risk of Recidivism   \n",
       "2                         Low        Low       18  Risk of Failure to Appear   \n",
       "3                         Low        Low        7           Risk of Violence   \n",
       "4                         Low     Medium        8         Risk of Recidivism   \n",
       "\n",
       "  raw_score  decile_score  person_id  \n",
       "0        -4             1          1  \n",
       "1        -2             1          1  \n",
       "2        13             1          1  \n",
       "3        -2             2          2  \n",
       "4         0             5          2  \n",
       "\n",
       "[5 rows x 21 columns]"
      ]
     },
     "execution_count": 12,
     "metadata": {},
     "output_type": "execute_result"
    }
   ],
   "source": [
    "compas.head()"
   ]
  },
  {
   "cell_type": "code",
   "execution_count": 13,
   "metadata": {},
   "outputs": [
    {
     "data": {
      "text/plain": [
       "Index(['id', 'first', 'last', 'compas_person_id', 'compas_case_id',\n",
       "       'compas_assessment_id', 'agency_text', 'scale_set', 'assessment_reason',\n",
       "       'legal_status', 'custody_status', 'marital_status', 'screening_date',\n",
       "       'rec_supervision_level', 'rec_supervision_level_text', 'score_text',\n",
       "       'scale_id', 'type_of_assessment', 'raw_score', 'decile_score',\n",
       "       'person_id'],\n",
       "      dtype='object')"
      ]
     },
     "execution_count": 13,
     "metadata": {},
     "output_type": "execute_result"
    }
   ],
   "source": [
    "compas.columns"
   ]
  },
  {
   "cell_type": "code",
   "execution_count": 14,
   "metadata": {},
   "outputs": [],
   "source": [
    "# In this setting we are interested mainly in whether the score $a$ we have given indidivuals is fair with respect to their sensitive attribute $z$ and their underlying quality $y$, i.e. whether or not recidivism occurred.\n",
    "df = pandas.read_sql('''SELECT race,\n",
    "                        is_violent_recid,\n",
    "                        agency_text,\n",
    "                        compas.score_text FROM people JOIN compas ON person_id = people.id''', engine)"
   ]
  },
  {
   "cell_type": "code",
   "execution_count": 15,
   "metadata": {},
   "outputs": [
    {
     "data": {
      "text/html": [
       "<div>\n",
       "<style scoped>\n",
       "    .dataframe tbody tr th:only-of-type {\n",
       "        vertical-align: middle;\n",
       "    }\n",
       "\n",
       "    .dataframe tbody tr th {\n",
       "        vertical-align: top;\n",
       "    }\n",
       "\n",
       "    .dataframe thead th {\n",
       "        text-align: right;\n",
       "    }\n",
       "</style>\n",
       "<table border=\"1\" class=\"dataframe\">\n",
       "  <thead>\n",
       "    <tr style=\"text-align: right;\">\n",
       "      <th></th>\n",
       "      <th>race</th>\n",
       "      <th>is_violent_recid</th>\n",
       "      <th>agency_text</th>\n",
       "      <th>score_text</th>\n",
       "    </tr>\n",
       "  </thead>\n",
       "  <tbody>\n",
       "    <tr>\n",
       "      <td>0</td>\n",
       "      <td>Other</td>\n",
       "      <td>0</td>\n",
       "      <td>PRETRIAL</td>\n",
       "      <td>Low</td>\n",
       "    </tr>\n",
       "    <tr>\n",
       "      <td>1</td>\n",
       "      <td>Other</td>\n",
       "      <td>0</td>\n",
       "      <td>PRETRIAL</td>\n",
       "      <td>Low</td>\n",
       "    </tr>\n",
       "    <tr>\n",
       "      <td>2</td>\n",
       "      <td>Other</td>\n",
       "      <td>0</td>\n",
       "      <td>PRETRIAL</td>\n",
       "      <td>Low</td>\n",
       "    </tr>\n",
       "    <tr>\n",
       "      <td>3</td>\n",
       "      <td>Caucasian</td>\n",
       "      <td>0</td>\n",
       "      <td>PRETRIAL</td>\n",
       "      <td>Low</td>\n",
       "    </tr>\n",
       "    <tr>\n",
       "      <td>4</td>\n",
       "      <td>Caucasian</td>\n",
       "      <td>0</td>\n",
       "      <td>PRETRIAL</td>\n",
       "      <td>Medium</td>\n",
       "    </tr>\n",
       "  </tbody>\n",
       "</table>\n",
       "</div>"
      ],
      "text/plain": [
       "        race  is_violent_recid agency_text score_text\n",
       "0      Other                 0    PRETRIAL        Low\n",
       "1      Other                 0    PRETRIAL        Low\n",
       "2      Other                 0    PRETRIAL        Low\n",
       "3  Caucasian                 0    PRETRIAL        Low\n",
       "4  Caucasian                 0    PRETRIAL     Medium"
      ]
     },
     "execution_count": 15,
     "metadata": {},
     "output_type": "execute_result"
    }
   ],
   "source": [
    "df.head()"
   ]
  },
  {
   "cell_type": "code",
   "execution_count": 16,
   "metadata": {},
   "outputs": [],
   "source": [
    "counts = df.groupby(['race', 'is_violent_recid']).score_text.value_counts()"
   ]
  },
  {
   "cell_type": "code",
   "execution_count": 17,
   "metadata": {},
   "outputs": [
    {
     "data": {
      "text/plain": [
       "race              is_violent_recid  score_text\n",
       "African-American  0                 Low           9757\n",
       "                                    Medium        4317\n",
       "                                    High          2847\n",
       "                                    N/A              8\n",
       "                  1                 Low            819\n",
       "                                    Medium         635\n",
       "                                    High           595\n",
       "Asian             0                 Low            141\n",
       "                                    Medium          20\n",
       "                                    High             7\n",
       "                  1                 Low              5\n",
       "                                    Medium           5\n",
       "                                    High             2\n",
       "Caucasian         0                 Low           8869\n",
       "                                    Medium        2139\n",
       "                                    High           918\n",
       "                                    N/A             11\n",
       "                  1                 Low            496\n",
       "                                    Medium         219\n",
       "                                    High           119\n",
       "Hispanic          0                 Low           2535\n",
       "                                    Medium         502\n",
       "                                    High           212\n",
       "                  1                 Low            125\n",
       "                                    Medium          44\n",
       "                                    High            32\n",
       "Native American   0                 Low             79\n",
       "                                    Medium          19\n",
       "                                    High            13\n",
       "                  1                 Low              7\n",
       "                                    Medium           6\n",
       "                                    High             5\n",
       "Other             0                 Low           1650\n",
       "                                    Medium         228\n",
       "                                    High            49\n",
       "                                    N/A              2\n",
       "                  1                 Low             94\n",
       "                                    High            27\n",
       "                                    Medium          20\n",
       "Name: score_text, dtype: int64"
      ]
     },
     "execution_count": 17,
     "metadata": {},
     "output_type": "execute_result"
    }
   ],
   "source": [
    "counts"
   ]
  },
  {
   "cell_type": "code",
   "execution_count": 18,
   "metadata": {},
   "outputs": [
    {
     "data": {
      "text/html": [
       "<div>\n",
       "<style scoped>\n",
       "    .dataframe tbody tr th:only-of-type {\n",
       "        vertical-align: middle;\n",
       "    }\n",
       "\n",
       "    .dataframe tbody tr th {\n",
       "        vertical-align: top;\n",
       "    }\n",
       "\n",
       "    .dataframe thead tr th {\n",
       "        text-align: left;\n",
       "    }\n",
       "</style>\n",
       "<table border=\"1\" class=\"dataframe\">\n",
       "  <thead>\n",
       "    <tr>\n",
       "      <th></th>\n",
       "      <th colspan=\"2\" halign=\"left\">African-American</th>\n",
       "      <th colspan=\"2\" halign=\"left\">Asian</th>\n",
       "      <th colspan=\"2\" halign=\"left\">Caucasian</th>\n",
       "      <th colspan=\"2\" halign=\"left\">Hispanic</th>\n",
       "      <th colspan=\"2\" halign=\"left\">Native American</th>\n",
       "      <th colspan=\"2\" halign=\"left\">Other</th>\n",
       "    </tr>\n",
       "    <tr>\n",
       "      <th></th>\n",
       "      <th>0</th>\n",
       "      <th>1</th>\n",
       "      <th>0</th>\n",
       "      <th>1</th>\n",
       "      <th>0</th>\n",
       "      <th>1</th>\n",
       "      <th>0</th>\n",
       "      <th>1</th>\n",
       "      <th>0</th>\n",
       "      <th>1</th>\n",
       "      <th>0</th>\n",
       "      <th>1</th>\n",
       "    </tr>\n",
       "  </thead>\n",
       "  <tbody>\n",
       "    <tr>\n",
       "      <td>High</td>\n",
       "      <td>0.168173</td>\n",
       "      <td>0.290386</td>\n",
       "      <td>0.041667</td>\n",
       "      <td>0.166667</td>\n",
       "      <td>0.076904</td>\n",
       "      <td>0.142686</td>\n",
       "      <td>0.065251</td>\n",
       "      <td>0.159204</td>\n",
       "      <td>0.117117</td>\n",
       "      <td>0.277778</td>\n",
       "      <td>0.025402</td>\n",
       "      <td>0.191489</td>\n",
       "    </tr>\n",
       "    <tr>\n",
       "      <td>Low</td>\n",
       "      <td>0.576348</td>\n",
       "      <td>0.399707</td>\n",
       "      <td>0.839286</td>\n",
       "      <td>0.416667</td>\n",
       "      <td>0.742984</td>\n",
       "      <td>0.594724</td>\n",
       "      <td>0.780240</td>\n",
       "      <td>0.621891</td>\n",
       "      <td>0.711712</td>\n",
       "      <td>0.388889</td>\n",
       "      <td>0.855365</td>\n",
       "      <td>0.666667</td>\n",
       "    </tr>\n",
       "    <tr>\n",
       "      <td>Medium</td>\n",
       "      <td>0.255006</td>\n",
       "      <td>0.309907</td>\n",
       "      <td>0.119048</td>\n",
       "      <td>0.416667</td>\n",
       "      <td>0.179191</td>\n",
       "      <td>0.262590</td>\n",
       "      <td>0.154509</td>\n",
       "      <td>0.218905</td>\n",
       "      <td>0.171171</td>\n",
       "      <td>0.333333</td>\n",
       "      <td>0.118196</td>\n",
       "      <td>0.141844</td>\n",
       "    </tr>\n",
       "    <tr>\n",
       "      <td>N/A</td>\n",
       "      <td>0.000473</td>\n",
       "      <td>NaN</td>\n",
       "      <td>NaN</td>\n",
       "      <td>NaN</td>\n",
       "      <td>0.000922</td>\n",
       "      <td>NaN</td>\n",
       "      <td>NaN</td>\n",
       "      <td>NaN</td>\n",
       "      <td>NaN</td>\n",
       "      <td>NaN</td>\n",
       "      <td>0.001037</td>\n",
       "      <td>NaN</td>\n",
       "    </tr>\n",
       "  </tbody>\n",
       "</table>\n",
       "</div>"
      ],
      "text/plain": [
       "       African-American               Asian           Caucasian            \\\n",
       "                      0         1         0         1         0         1   \n",
       "High           0.168173  0.290386  0.041667  0.166667  0.076904  0.142686   \n",
       "Low            0.576348  0.399707  0.839286  0.416667  0.742984  0.594724   \n",
       "Medium         0.255006  0.309907  0.119048  0.416667  0.179191  0.262590   \n",
       "N/A            0.000473       NaN       NaN       NaN  0.000922       NaN   \n",
       "\n",
       "        Hispanic           Native American               Other            \n",
       "               0         1               0         1         0         1  \n",
       "High    0.065251  0.159204        0.117117  0.277778  0.025402  0.191489  \n",
       "Low     0.780240  0.621891        0.711712  0.388889  0.855365  0.666667  \n",
       "Medium  0.154509  0.218905        0.171171  0.333333  0.118196  0.141844  \n",
       "N/A          NaN       NaN             NaN       NaN  0.001037       NaN  "
      ]
     },
     "execution_count": 18,
     "metadata": {},
     "output_type": "execute_result"
    }
   ],
   "source": [
    "relative_counts = pandas.DataFrame(\n",
    "    {i: d.score_text.value_counts() / d.score_text.count()\n",
    "     for i, d in df.groupby(['race', 'is_violent_recid'])})\n",
    "relative_counts"
   ]
  },
  {
   "cell_type": "code",
   "execution_count": 19,
   "metadata": {},
   "outputs": [],
   "source": [
    "%matplotlib inline"
   ]
  },
  {
   "cell_type": "code",
   "execution_count": 20,
   "metadata": {},
   "outputs": [
    {
     "data": {
      "text/plain": [
       "<matplotlib.legend.Legend at 0x11315b4d0>"
      ]
     },
     "execution_count": 20,
     "metadata": {},
     "output_type": "execute_result"
    },
    {
     "data": {
      "image/png": "[encoded data removed]",
      "text/plain": [
       "<Figure size 432x288 with 1 Axes>"
      ]
     },
     "metadata": {
      "needs_background": "light"
     },
     "output_type": "display_data"
    }
   ],
   "source": [
    "# First plot the output, to see if the distributions look different\n",
    "\n",
    "relative_counts.plot.bar().legend(bbox_to_anchor = (1,1))"
   ]
  },
  {
   "cell_type": "code",
   "execution_count": 21,
   "metadata": {},
   "outputs": [
    {
     "data": {
      "text/plain": [
       "<matplotlib.axes._subplots.AxesSubplot at 0x1155b9610>"
      ]
     },
     "execution_count": 21,
     "metadata": {},
     "output_type": "execute_result"
    },
    {
     "data": {
      "image/png": "[encoded data removed]",
      "text/plain": [
       "<Figure size 432x288 with 1 Axes>"
      ]
     },
     "metadata": {
      "needs_background": "light"
     },
     "output_type": "display_data"
    }
   ],
   "source": [
    "# Let's plot this a bit differently\n",
    "\n",
    "relative_counts[\"Asian\", 0].plot.bar()"
   ]
  },
  {
   "cell_type": "code",
   "execution_count": 22,
   "metadata": {
    "scrolled": true
   },
   "outputs": [],
   "source": [
    "from statsmodels.formula.api import logit, mnlogit"
   ]
  },
  {
   "cell_type": "code",
   "execution_count": 23,
   "metadata": {},
   "outputs": [],
   "source": [
    "df['scored_high'] = 0 + (df.score_text == 'High')"
   ]
  },
  {
   "cell_type": "code",
   "execution_count": 24,
   "metadata": {},
   "outputs": [],
   "source": [
    "model = logit('scored_high ~ race + is_violent_recid + agency_text', df)"
   ]
  },
  {
   "cell_type": "code",
   "execution_count": 25,
   "metadata": {},
   "outputs": [
    {
     "name": "stdout",
     "output_type": "stream",
     "text": [
      "Optimization terminated successfully.\n",
      "         Current function value: 0.365167\n",
      "         Iterations 7\n"
     ]
    }
   ],
   "source": [
    "fitted_model = model.fit()"
   ]
  },
  {
   "cell_type": "code",
   "execution_count": 26,
   "metadata": {},
   "outputs": [
    {
     "data": {
      "text/html": [
       "<table class=\"simpletable\">\n",
       "<tr>\n",
       "        <td>Model:</td>              <td>Logit</td>      <td>Pseudo R-squared:</td>    <td>0.048</td>   \n",
       "</tr>\n",
       "<tr>\n",
       "  <td>Dependent Variable:</td>    <td>scored_high</td>         <td>AIC:</td>        <td>27464.5164</td> \n",
       "</tr>\n",
       "<tr>\n",
       "         <td>Date:</td>        <td>2019-10-13 12:53</td>       <td>BIC:</td>        <td>27549.8581</td> \n",
       "</tr>\n",
       "<tr>\n",
       "   <td>No. Observations:</td>        <td>37578</td>       <td>Log-Likelihood:</td>    <td>-13722.</td>  \n",
       "</tr>\n",
       "<tr>\n",
       "       <td>Df Model:</td>              <td>9</td>            <td>LL-Null:</td>        <td>-14407.</td>  \n",
       "</tr>\n",
       "<tr>\n",
       "     <td>Df Residuals:</td>          <td>37568</td>        <td>LLR p-value:</td>    <td>3.6813e-289</td>\n",
       "</tr>\n",
       "<tr>\n",
       "      <td>Converged:</td>           <td>1.0000</td>           <td>Scale:</td>         <td>1.0000</td>   \n",
       "</tr>\n",
       "<tr>\n",
       "    <td>No. Iterations:</td>        <td>7.0000</td>              <td></td>               <td></td>      \n",
       "</tr>\n",
       "</table>\n",
       "<table class=\"simpletable\">\n",
       "<tr>\n",
       "              <td></td>              <th>Coef.</th>  <th>Std.Err.</th>     <th>z</th>     <th>P>|z|</th> <th>[0.025</th>  <th>0.975]</th> \n",
       "</tr>\n",
       "<tr>\n",
       "  <th>Intercept</th>                <td>-0.9779</td>  <td>0.2302</td>   <td>-4.2476</td> <td>0.0000</td> <td>-1.4291</td> <td>-0.5266</td>\n",
       "</tr>\n",
       "<tr>\n",
       "  <th>race[T.Asian]</th>            <td>-1.4142</td>  <td>0.3431</td>   <td>-4.1218</td> <td>0.0000</td> <td>-2.0867</td> <td>-0.7417</td>\n",
       "</tr>\n",
       "<tr>\n",
       "  <th>race[T.Caucasian]</th>        <td>-0.8806</td>  <td>0.0377</td>  <td>-23.3739</td> <td>0.0000</td> <td>-0.9544</td> <td>-0.8067</td>\n",
       "</tr>\n",
       "<tr>\n",
       "  <th>race[T.Hispanic]</th>         <td>-1.0405</td>  <td>0.0693</td>  <td>-15.0078</td> <td>0.0000</td> <td>-1.1764</td> <td>-0.9046</td>\n",
       "</tr>\n",
       "<tr>\n",
       "  <th>race[T.Native American]</th>  <td>-0.3605</td>  <td>0.2564</td>   <td>-1.4063</td> <td>0.1596</td> <td>-0.8630</td> <td>0.1419</td> \n",
       "</tr>\n",
       "<tr>\n",
       "  <th>race[T.Other]</th>            <td>-1.7172</td>  <td>0.1186</td>  <td>-14.4776</td> <td>0.0000</td> <td>-1.9497</td> <td>-1.4848</td>\n",
       "</tr>\n",
       "<tr>\n",
       "  <th>agency_text[T.DRRD]</th>      <td>0.2336</td>   <td>0.2937</td>   <td>0.7952</td>  <td>0.4265</td> <td>-0.3421</td> <td>0.8093</td> \n",
       "</tr>\n",
       "<tr>\n",
       "  <th>agency_text[T.PRETRIAL]</th>  <td>-0.6537</td>  <td>0.2305</td>   <td>-2.8358</td> <td>0.0046</td> <td>-1.1055</td> <td>-0.2019</td>\n",
       "</tr>\n",
       "<tr>\n",
       "  <th>agency_text[T.Probation]</th> <td>-0.2184</td>  <td>0.2415</td>   <td>-0.9047</td> <td>0.3656</td> <td>-0.6917</td> <td>0.2548</td> \n",
       "</tr>\n",
       "<tr>\n",
       "  <th>is_violent_recid</th>         <td>0.7479</td>   <td>0.0453</td>   <td>16.5145</td> <td>0.0000</td> <td>0.6591</td>  <td>0.8367</td> \n",
       "</tr>\n",
       "</table>"
      ],
      "text/plain": [
       "<class 'statsmodels.iolib.summary2.Summary'>\n",
       "\"\"\"\n",
       "                             Results: Logit\n",
       "=========================================================================\n",
       "Model:                 Logit              Pseudo R-squared:   0.048      \n",
       "Dependent Variable:    scored_high        AIC:                27464.5164 \n",
       "Date:                  2019-10-13 12:53   BIC:                27549.8581 \n",
       "No. Observations:      37578              Log-Likelihood:     -13722.    \n",
       "Df Model:              9                  LL-Null:            -14407.    \n",
       "Df Residuals:          37568              LLR p-value:        3.6813e-289\n",
       "Converged:             1.0000             Scale:              1.0000     \n",
       "No. Iterations:        7.0000                                            \n",
       "-------------------------------------------------------------------------\n",
       "                          Coef.  Std.Err.    z     P>|z|   [0.025  0.975]\n",
       "-------------------------------------------------------------------------\n",
       "Intercept                -0.9779   0.2302  -4.2476 0.0000 -1.4291 -0.5266\n",
       "race[T.Asian]            -1.4142   0.3431  -4.1218 0.0000 -2.0867 -0.7417\n",
       "race[T.Caucasian]        -0.8806   0.0377 -23.3739 0.0000 -0.9544 -0.8067\n",
       "race[T.Hispanic]         -1.0405   0.0693 -15.0078 0.0000 -1.1764 -0.9046\n",
       "race[T.Native American]  -0.3605   0.2564  -1.4063 0.1596 -0.8630  0.1419\n",
       "race[T.Other]            -1.7172   0.1186 -14.4776 0.0000 -1.9497 -1.4848\n",
       "agency_text[T.DRRD]       0.2336   0.2937   0.7952 0.4265 -0.3421  0.8093\n",
       "agency_text[T.PRETRIAL]  -0.6537   0.2305  -2.8358 0.0046 -1.1055 -0.2019\n",
       "agency_text[T.Probation] -0.2184   0.2415  -0.9047 0.3656 -0.6917  0.2548\n",
       "is_violent_recid          0.7479   0.0453  16.5145 0.0000  0.6591  0.8367\n",
       "=========================================================================\n",
       "\n",
       "\"\"\""
      ]
     },
     "execution_count": 26,
     "metadata": {},
     "output_type": "execute_result"
    }
   ],
   "source": [
    "fitted_model.summary2()"
   ]
  },
  {
   "cell_type": "markdown",
   "metadata": {},
   "source": [
    "# Conditional independence\n",
    "\n",
    "Here you should try and measure the conditional independence of your model $P$ with respect to the sensitive variable (race). In particular, we wish to calculate the dependence of the risk classification $a$ on race $z$ given their recidivism $y$:\n",
    "$$D(P(a \\mid y, z), P(a \\mid y)),$$\n",
    "which corresponds to the policy for selecting the scores being balanced. We also wish to calculate the dependence of recidivism $y$ on race $z$ given the risk $a$:\n",
    "$$D(P(y \\mid a, z), P(y \\mid a)),$$\n",
    "which corresponds to the policy for selecting the scores being calibrated.\n",
    "\n",
    "Here $D$ is some appropriate distance or divergence between distributions. It is suggested to use one of:\n",
    "\n",
    "1. Total variation https://en.wikipedia.org/wiki/Total_variation_distance_of_probability_measures \n",
    "2. KL divergence https://en.wikipedia.org/wiki/Kullback%E2%80%93Leibler_divergence or \n",
    "3. $1/2$-Renyi-divergence https://en.wikipedia.org/wiki/R%C3%A9nyi_entropy#R%C3%A9nyi_divergence\n",
    "\n",
    "Does the policy look fair with respect to either one of those metrics?\n"
   ]
  },
  {
   "cell_type": "code",
   "execution_count": null,
   "metadata": {},
   "outputs": [],
   "source": []
  },
  {
   "cell_type": "code",
   "execution_count": null,
   "metadata": {},
   "outputs": [],
   "source": []
  }
 ],
 "metadata": {
  "kernelspec": {
   "display_name": "Python 3",
   "language": "python",
   "name": "python3"
  },
  "language_info": {
   "codemirror_mode": {
    "name": "ipython",
    "version": 3
   },
   "file_extension": ".py",
   "mimetype": "text/x-python",
   "name": "python",
   "nbconvert_exporter": "python",
   "pygments_lexer": "ipython3",
   "version": "3.7.4"
  }
 },
 "nbformat": 4,
 "nbformat_minor": 2
}
