{
 "cells": [
  {
   "cell_type": "code",
   "execution_count": 1,
   "metadata": {},
   "outputs": [],
   "source": [
    "import numpy as np\n",
    "import pandas"
   ]
  },
  {
   "cell_type": "code",
   "execution_count": 2,
   "metadata": {},
   "outputs": [
    {
     "name": "stdout",
     "output_type": "stream",
     "text": [
      "              Treatment A  Treatment B\n",
      "Small stones           87          270\n",
      "Large stones          263           80\n",
      "              Treatment A  Treatment B\n",
      "Small stones           81          234\n",
      "Large stones          192           55\n"
     ]
    }
   ],
   "source": [
    "successes = np.matrix('81 234;192 55')\n",
    "cases = np.matrix('87 270; 263 80')\n",
    "successes_df = pandas.DataFrame(successes, index=['Small stones', 'Large stones'], columns=['Treatment A', 'Treatment B'])\n",
    "cases_df = pandas.DataFrame(cases, index=['Small stones', 'Large stones'], columns=['Treatment A', 'Treatment B'])\n",
    "print(cases_df)\n",
    "print(successes_df)"
   ]
  },
  {
   "cell_type": "code",
   "execution_count": 3,
   "metadata": {},
   "outputs": [
    {
     "name": "stdout",
     "output_type": "stream",
     "text": [
      "              Treatment A  Treatment B\n",
      "Small stones     0.931034     0.866667\n",
      "Large stones     0.730038     0.687500\n"
     ]
    }
   ],
   "source": [
    "# The success rate for each treatment depending on the type of stone. \n",
    "# Here we can see that in both cases, treatment A works better.\n",
    "success_rate_df = successes_df / cases_df\n",
    "print(success_rate_df)"
   ]
  },
  {
   "cell_type": "code",
   "execution_count": 4,
   "metadata": {},
   "outputs": [
    {
     "name": "stdout",
     "output_type": "stream",
     "text": [
      "Treatment A    0.780000\n",
      "Treatment B    0.825714\n",
      "dtype: float64\n"
     ]
    }
   ],
   "source": [
    "# However, if we look at the total success rate, treatment B seems better. Why?\n",
    "marginal_success_rate_df = np.sum(successes_df, 0) / np.sum(cases_df, 0)\n",
    "print(marginal_success_rate_df)"
   ]
  },
  {
   "cell_type": "code",
   "execution_count": 6,
   "metadata": {},
   "outputs": [],
   "source": [
    "# We have P(y|x,a) us successs_rate_df\n",
    "# We now alsohave P(a|x) and this is combined with P(y|a,x) to give \\sum_a P(a|x) P(y|a,x) = P(y | x)\n",
    "# We can also calculate P(y | a) = sum_x P(x | a) P(y | a, x) = sum_x P(a | x) P(x) P(y | a, x) / Z"
   ]
  },
  {
   "cell_type": "code",
   "execution_count": 7,
   "metadata": {},
   "outputs": [
    {
     "data": {
      "text/plain": [
       "matrix([[0.44518766, 0.30354223]])"
      ]
     },
     "execution_count": 7,
     "metadata": {},
     "output_type": "execute_result"
    }
   ],
   "source": [
    "# College admissions\n",
    "applicants = np.matrix('825 108; 560 25; 325 593; 417 375; 191 393; 373 341')\n",
    "success_rate = np.matrix('0.62 0.82; 0.63 0.68; 0.37 0.34; 0.33 0.35; 0.28 0.24; 0.06 0.07')\n",
    "successes = np.round(np.multiply(applicants, success_rate))\n",
    "success_rate\n",
    "sum(successes) / sum(applicants)"
   ]
  },
  {
   "cell_type": "code",
   "execution_count": 7,
   "metadata": {},
   "outputs": [],
   "source": [
    "import dirichlet_multinomial"
   ]
  },
  {
   "cell_type": "code",
   "execution_count": null,
   "metadata": {},
   "outputs": [],
   "source": []
  }
 ],
 "metadata": {
  "kernelspec": {
   "display_name": "Python 3",
   "language": "python",
   "name": "python3"
  },
  "language_info": {
   "codemirror_mode": {
    "name": "ipython",
    "version": 3
   },
   "file_extension": ".py",
   "mimetype": "text/x-python",
   "name": "python",
   "nbconvert_exporter": "python",
   "pygments_lexer": "ipython3",
   "version": "3.7.4"
  }
 },
 "nbformat": 4,
 "nbformat_minor": 2
}
